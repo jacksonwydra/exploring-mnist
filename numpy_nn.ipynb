{
 "cells": [
  {
   "cell_type": "markdown",
   "metadata": {},
   "source": [
    "# Neural Network from Scratch with Numpy"
   ]
  },
  {
   "cell_type": "markdown",
   "metadata": {},
   "source": [
    "## Imports"
   ]
  },
  {
   "cell_type": "code",
   "execution_count": 1,
   "metadata": {},
   "outputs": [],
   "source": [
    "%matplotlib inline\n",
    "\n",
    "import gzip, hashlib, os, requests\n",
    "\n",
    "import numpy as np\n",
    "import matplotlib.pyplot as plt\n",
    "\n",
    "np.random.seed(42)"
   ]
  },
  {
   "cell_type": "markdown",
   "metadata": {},
   "source": [
    "## Load Data"
   ]
  },
  {
   "cell_type": "code",
   "execution_count": 2,
   "metadata": {},
   "outputs": [
    {
     "name": "stdout",
     "output_type": "stream",
     "text": [
      "train shape: (50000, 28, 28)\n",
      "val shape: (10000, 28, 28)\n",
      "test shape: (10000, 28, 28)\n"
     ]
    }
   ],
   "source": [
    "# Modified from https://github.com/geohot/ai-notebooks/blob/master/mnist_from_scratch.ipynb written by George Hotz\n",
    "\n",
    "def fetch_data(url):\n",
    "    fp = os.path.join('/tmp', hashlib.md5(url.encode('utf-8')).hexdigest())\n",
    "\n",
    "    if os.path.isfile(fp):\n",
    "        with open(fp, 'rb') as f:\n",
    "            data = f.read()\n",
    "    else:\n",
    "        with open(fp, 'wb') as f:\n",
    "            data = requests.get(url).content\n",
    "            f.write(data)\n",
    "    \n",
    "    return np.frombuffer(gzip.decompress(data), dtype=np.uint8).copy()\n",
    "\n",
    "x_train = fetch_data(\"http://yann.lecun.com/exdb/mnist/train-images-idx3-ubyte.gz\")[0x10:].reshape((-1, 28, 28))\n",
    "y_train = fetch_data(\"http://yann.lecun.com/exdb/mnist/train-labels-idx1-ubyte.gz\")[8:]\n",
    "\n",
    "x_test = fetch_data(\"http://yann.lecun.com/exdb/mnist/t10k-images-idx3-ubyte.gz\")[0x10:].reshape((-1, 28, 28))\n",
    "y_test = fetch_data(\"http://yann.lecun.com/exdb/mnist/t10k-labels-idx1-ubyte.gz\")[8:]\n",
    "\n",
    "val_idx = np.random.choice(np.arange(x_train.shape[0]), size=10000, replace=False)\n",
    "mask = np.zeros(x_train.shape[0], dtype=bool)\n",
    "mask[val_idx] = True\n",
    "\n",
    "x_val = x_train[mask]\n",
    "y_val = y_train[mask]\n",
    "\n",
    "x_train = x_train[~mask]\n",
    "y_train = y_train[~mask]\n",
    "\n",
    "print(f'train shape: {x_train.shape}')\n",
    "print(f'val shape: {x_val.shape}')\n",
    "print(f'test shape: {x_test.shape}')"
   ]
  },
  {
   "cell_type": "markdown",
   "metadata": {},
   "source": [
    "## Normalize"
   ]
  },
  {
   "cell_type": "code",
   "execution_count": 3,
   "metadata": {},
   "outputs": [],
   "source": [
    "x_train = x_train / 255.0\n",
    "x_val = x_val / 255.0\n",
    "x_test = x_test / 255.0"
   ]
  },
  {
   "cell_type": "markdown",
   "metadata": {},
   "source": [
    "## Preview Data"
   ]
  },
  {
   "cell_type": "code",
   "execution_count": 4,
   "metadata": {},
   "outputs": [
    {
     "name": "stdout",
     "output_type": "stream",
     "text": [
      "Label: 5\n"
     ]
    },
    {
     "data": {
      "image/png": "[encoded data removed]",
      "text/plain": [
       "<Figure size 432x288 with 1 Axes>"
      ]
     },
     "metadata": {
      "needs_background": "light"
     },
     "output_type": "display_data"
    }
   ],
   "source": [
    "print(f'Label: {y_train[0]}')\n",
    "img = plt.imshow(x_train[0], cmap='gray', vmin=0, vmax=1)"
   ]
  },
  {
   "cell_type": "markdown",
   "metadata": {},
   "source": [
    "## Helper Functions"
   ]
  },
  {
   "cell_type": "code",
   "execution_count": 5,
   "metadata": {},
   "outputs": [],
   "source": [
    "def one_hot(y):\n",
    "    y_hot = np.zeros((y.size, 10))\n",
    "    y_hot[np.arange(y.size), y] = 1\n",
    "    \n",
    "    return y_hot\n",
    "\n",
    "def flatten(x):\n",
    "    return np.reshape(x, (-1, 28 * 28))"
   ]
  },
  {
   "cell_type": "markdown",
   "metadata": {},
   "source": [
    "## Initialization Functions"
   ]
  },
  {
   "cell_type": "code",
   "execution_count": 6,
   "metadata": {},
   "outputs": [],
   "source": [
    "def init_random(l1, l2):\n",
    "    weights = np.random.rand(l1, l2) - 0.5\n",
    "    biases = np.random.rand(l2) - 0.5\n",
    "    \n",
    "    return weights, biases"
   ]
  },
  {
   "cell_type": "markdown",
   "metadata": {},
   "source": [
    "## Activation Functions"
   ]
  },
  {
   "cell_type": "code",
   "execution_count": 7,
   "metadata": {},
   "outputs": [],
   "source": [
    "def sigmoid(x, derivative=False):\n",
    "    if derivative:\n",
    "        f_x = np.exp(-x) / np.square(np.exp(-x) + 1)\n",
    "    else:\n",
    "        f_x = 1 / (np.exp(-x) + 1)\n",
    "\n",
    "    return f_x\n",
    "\n",
    "def softmax(x, y=None, derivative=False):\n",
    "    if derivative:\n",
    "        f_x = x - y\n",
    "    else:\n",
    "        e_x = np.exp(x - np.max(x, axis=1, keepdims=True))\n",
    "        f_x =  e_x / np.sum(e_x, axis=1, keepdims=True)\n",
    "\n",
    "    return f_x"
   ]
  },
  {
   "cell_type": "markdown",
   "metadata": {},
   "source": [
    "## Defining the Network"
   ]
  },
  {
   "cell_type": "code",
   "execution_count": 8,
   "metadata": {},
   "outputs": [],
   "source": [
    "class NumpyNN:\n",
    "    def __init__(self, lr, epsilon, init_fn, act_fn):\n",
    "        self.w1, self.b1 = init_fn(28 * 28, 128)\n",
    "        self.w2, self.b2 = init_fn(128, 64)\n",
    "        self.w3, self.b3 = init_fn(64, 10)\n",
    "\n",
    "        self.lr = lr\n",
    "        self.epsilon = epsilon\n",
    "        self.act_fn = act_fn\n",
    "\n",
    "    def forward(self, x):\n",
    "        x = flatten(x)\n",
    "\n",
    "        self.z1 = x @ self.w1 + self.b1\n",
    "        self.a1 = self.act_fn(self.z1)\n",
    "\n",
    "        self.z2 = self.a1 @ self.w2 + self.b2\n",
    "        self.a2 = self.act_fn(self.z2)\n",
    "\n",
    "        z3 = self.a2 @ self.w3 + self.b3\n",
    "        self.a3 = softmax(z3)\n",
    "\n",
    "        return self.a3\n",
    "\n",
    "    def backward(self, x, y):\n",
    "        x = flatten(x)\n",
    "        y_hot = one_hot(y)\n",
    "        n = y_hot.shape[0]\n",
    "\n",
    "        dz3 = softmax(self.a3, y_hot, derivative=True)\n",
    "        self.dw3 = (dz3.T @ self.a2).T / n\n",
    "        self.db3 = np.sum(dz3, axis=0) / n\n",
    "\n",
    "        dz2 = (dz3 @ self.w3.T) * self.act_fn(self.z2, derivative=True)\n",
    "        self.dw2 = (dz2.T @ self.a1).T / n\n",
    "        self.db2 = np.sum(dz2, axis=0) / n\n",
    "\n",
    "        dz1 = (dz2 @ self.w2.T) * self.act_fn(self.z1, derivative=True)\n",
    "        self.dw1 = (dz1.T @ x).T / n\n",
    "        self.db1 = np.sum(dz1, axis=0) / n\n",
    "\n",
    "    def update_parameters(self):\n",
    "        self.w1 -= self.lr * self.dw1\n",
    "        self.b1 -= self.lr * self.db1\n",
    "        self.w2 -= self.lr * self.dw2\n",
    "        self.b2 -= self.lr * self.db2\n",
    "        self.w3 -= self.lr * self.dw3\n",
    "        self.b3 -= self.lr * self.db3\n",
    "\n",
    "    def accuracy(self, y):\n",
    "        y_hat = np.argmax(self.a3, axis=1)\n",
    "        accuracy = np.sum(y_hat == y) / y.size\n",
    "\n",
    "        return accuracy\n",
    "\n",
    "    def loss(self, y):\n",
    "        y_hot = one_hot(y)\n",
    "        losses = -np.sum(y_hot * np.log(self.a3 + self.epsilon), axis=1)\n",
    "        loss = np.mean(losses)\n",
    "        \n",
    "        return loss"
   ]
  },
  {
   "cell_type": "markdown",
   "metadata": {},
   "source": [
    "## Hyperparameters"
   ]
  },
  {
   "cell_type": "code",
   "execution_count": 9,
   "metadata": {},
   "outputs": [],
   "source": [
    "lr = 1\n",
    "epochs = 250\n",
    "epsilon = 1e-7"
   ]
  },
  {
   "cell_type": "markdown",
   "metadata": {},
   "source": [
    "## Train Network"
   ]
  },
  {
   "cell_type": "code",
   "execution_count": 10,
   "metadata": {},
   "outputs": [
    {
     "name": "stdout",
     "output_type": "stream",
     "text": [
      "[10/250] Train Accuracy: 51.46% Train Loss: 1.8356 Val Accuracy: 53.53 Val Loss: 1.7687\n",
      "[20/250] Train Accuracy: 69.06% Train Loss: 1.2926 Val Accuracy: 69.32 Val Loss: 1.2586\n",
      "[30/250] Train Accuracy: 66.51% Train Loss: 1.0958 Val Accuracy: 63.49 Val Loss: 1.1423\n",
      "[40/250] Train Accuracy: 75.86% Train Loss: 0.8275 Val Accuracy: 77.63 Val Loss: 0.8096\n",
      "[50/250] Train Accuracy: 80.58% Train Loss: 0.6861 Val Accuracy: 81.27 Val Loss: 0.6807\n",
      "[60/250] Train Accuracy: 82.95% Train Loss: 0.608 Val Accuracy: 83.08 Val Loss: 0.6058\n",
      "[70/250] Train Accuracy: 84.66% Train Loss: 0.5514 Val Accuracy: 84.58 Val Loss: 0.5494\n",
      "[80/250] Train Accuracy: 85.97% Train Loss: 0.5081 Val Accuracy: 85.85 Val Loss: 0.5061\n",
      "[90/250] Train Accuracy: 86.94% Train Loss: 0.4748 Val Accuracy: 86.78 Val Loss: 0.473\n",
      "[100/250] Train Accuracy: 87.61% Train Loss: 0.4491 Val Accuracy: 87.22 Val Loss: 0.4474\n",
      "[110/250] Train Accuracy: 88.14% Train Loss: 0.4284 Val Accuracy: 87.68 Val Loss: 0.4268\n",
      "[120/250] Train Accuracy: 88.52% Train Loss: 0.4111 Val Accuracy: 88.23 Val Loss: 0.4096\n",
      "[130/250] Train Accuracy: 88.83% Train Loss: 0.3963 Val Accuracy: 88.6 Val Loss: 0.3949\n",
      "[140/250] Train Accuracy: 89.16% Train Loss: 0.3834 Val Accuracy: 88.9 Val Loss: 0.3822\n",
      "[150/250] Train Accuracy: 89.44% Train Loss: 0.3721 Val Accuracy: 89.23 Val Loss: 0.371\n",
      "[160/250] Train Accuracy: 89.71% Train Loss: 0.3619 Val Accuracy: 89.49 Val Loss: 0.361\n",
      "[170/250] Train Accuracy: 89.93% Train Loss: 0.3528 Val Accuracy: 89.67 Val Loss: 0.3521\n",
      "[180/250] Train Accuracy: 90.16% Train Loss: 0.3445 Val Accuracy: 89.88 Val Loss: 0.344\n",
      "[190/250] Train Accuracy: 90.38% Train Loss: 0.337 Val Accuracy: 90.2 Val Loss: 0.3367\n",
      "[200/250] Train Accuracy: 90.57% Train Loss: 0.33 Val Accuracy: 90.36 Val Loss: 0.3299\n",
      "[210/250] Train Accuracy: 90.77% Train Loss: 0.3236 Val Accuracy: 90.47 Val Loss: 0.3237\n",
      "[220/250] Train Accuracy: 90.93% Train Loss: 0.3176 Val Accuracy: 90.64 Val Loss: 0.3179\n",
      "[230/250] Train Accuracy: 91.06% Train Loss: 0.3119 Val Accuracy: 90.78 Val Loss: 0.3126\n",
      "[240/250] Train Accuracy: 91.18% Train Loss: 0.3067 Val Accuracy: 90.89 Val Loss: 0.3076\n",
      "[250/250] Train Accuracy: 91.31% Train Loss: 0.3017 Val Accuracy: 91.05 Val Loss: 0.3029\n"
     ]
    }
   ],
   "source": [
    "model = NumpyNN(lr, epsilon, init_random, sigmoid)\n",
    "accuracies = []\n",
    "losses = []\n",
    "\n",
    "for epoch in range(epochs):\n",
    "    output = model.forward(x_train)\n",
    "    model.backward(x_train, y_train)\n",
    "    model.update_parameters()\n",
    "\n",
    "    accuracy = model.accuracy(y_train)\n",
    "    loss = model.loss(y_train)\n",
    "    accuracies.append(accuracy)\n",
    "    losses.append(loss)\n",
    "\n",
    "    accuracy = np.round(accuracy * 100, 2)\n",
    "    loss = np.round(loss, 4)\n",
    "\n",
    "    if (epoch + 1) % 10 == 0:\n",
    "        output = model.forward(x_val)\n",
    "        val_accuracy = np.round(model.accuracy(y_val) * 100, 2)\n",
    "        val_loss = np.round(model.loss(y_val), 4)\n",
    "        print(f'[{epoch + 1}/{epochs}]', end=' ')\n",
    "        print(f'Train Accuracy: {accuracy}%', end=' ')\n",
    "        print(f'Train Loss: {loss}', end=' ')\n",
    "        print(f'Val Accuracy: {val_accuracy}%', end= ' ')\n",
    "        print(f'Val Loss: {val_loss}')"
   ]
  },
  {
   "cell_type": "markdown",
   "metadata": {},
   "source": [
    "## Plot Training Accuracy and Loss"
   ]
  },
  {
   "cell_type": "code",
   "execution_count": 13,
   "metadata": {},
   "outputs": [
    {
     "data": {
      "image/png": "[encoded data removed]",
      "text/plain": [
       "<Figure size 432x288 with 1 Axes>"
      ]
     },
     "metadata": {
      "needs_background": "light"
     },
     "output_type": "display_data"
    },
    {
     "data": {
      "image/png": "[encoded data removed]",
      "text/plain": [
       "<Figure size 432x288 with 1 Axes>"
      ]
     },
     "metadata": {
      "needs_background": "light"
     },
     "output_type": "display_data"
    }
   ],
   "source": [
    "a = plt.plot(accuracies)\n",
    "plt.show()\n",
    "l = plt.plot(losses)\n",
    "plt.show()"
   ]
  },
  {
   "cell_type": "markdown",
   "metadata": {},
   "source": [
    "## Test Accuracy"
   ]
  },
  {
   "cell_type": "code",
   "execution_count": 14,
   "metadata": {},
   "outputs": [
    {
     "name": "stdout",
     "output_type": "stream",
     "text": [
      "Accuracy: 91.99% Loss: 0.2896\n"
     ]
    }
   ],
   "source": [
    "output = model.forward(x_test)\n",
    "accuracy = np.round(model.accuracy(y_test) * 100, 2)\n",
    "loss = np.round(model.loss(y_test), 4)\n",
    "print(f'Accuracy: {accuracy}% Loss: {loss}')"
   ]
  }
 ],
 "metadata": {
  "kernelspec": {
   "display_name": "Python 3.10.4 ('mnist')",
   "language": "python",
   "name": "python3"
  },
  "language_info": {
   "codemirror_mode": {
    "name": "ipython",
    "version": 3
   },
   "file_extension": ".py",
   "mimetype": "text/x-python",
   "name": "python",
   "nbconvert_exporter": "python",
   "pygments_lexer": "ipython3",
   "version": "3.10.5"
  },
  "orig_nbformat": 4,
  "vscode": {
   "interpreter": {
    "hash": "e4babfc55047316f1361c0410b79efb9771a363e9b7ac4adb768871ab5da6728"
   }
  }
 },
 "nbformat": 4,
 "nbformat_minor": 2
}
